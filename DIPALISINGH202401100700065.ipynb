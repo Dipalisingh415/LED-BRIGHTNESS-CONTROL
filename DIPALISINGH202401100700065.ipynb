{
  "nbformat": 4,
  "nbformat_minor": 0,
  "metadata": {
    "colab": {
      "provenance": []
    },
    "kernelspec": {
      "name": "python3",
      "display_name": "Python 3"
    },
    "language_info": {
      "name": "python"
    }
  },
  "cells": [
    {
      "cell_type": "code",
      "execution_count": 2,
      "metadata": {
        "colab": {
          "base_uri": "https://localhost:8080/"
        },
        "id": "r-dsQUEULRFu",
        "outputId": "0d8ded30-6048-4862-a54a-2306e998c6e4"
      },
      "outputs": [
        {
          "output_type": "stream",
          "name": "stdout",
          "text": [
            "Welcome to LED Brightness Control!\n",
            "Commands:\n",
            "'i' to increase brightness\n",
            "'d' to decrease brightness\n",
            "'q' to quit the program\n",
            "Enter command: i\n",
            "Brightness increased to: 60%\n",
            "Brightness Visual: [||||||]\n",
            "Enter command: d\n",
            "Brightness decreased to: 50%\n",
            "Brightness Visual: [|||||]\n",
            "Enter command: q\n",
            "Exiting LED Brightness Control. Goodbye!\n"
          ]
        }
      ],
      "source": [
        "\n",
        "def led_brightness_control():\n",
        "    # 1. Set minimum limit and step size\n",
        "    min_brightness = 0\n",
        "    max_brightness = 100\n",
        "    step_size = 10\n",
        "    brightness = 50  # Starting brightness level\n",
        "\n",
        "    # 2. Instructions for the user\n",
        "    print(\"Welcome to LED Brightness Control!\")\n",
        "    print(\"Commands:\")\n",
        "    print(\"'i' to increase brightness\")\n",
        "    print(\"'d' to decrease brightness\")\n",
        "    print(\"'q' to quit the program\")\n",
        "\n",
        "    # 3. Continuous loop until user exits\n",
        "    while True:\n",
        "        # 4. Request commands\n",
        "        command = input(\"Enter command: \").strip().lower()\n",
        "\n",
        "        if command == 'i':\n",
        "            # 5. Increase brightness with max limit check\n",
        "            if brightness + step_size <= max_brightness:\n",
        "                brightness += step_size\n",
        "                print(f\"Brightness increased to: {brightness}%\")\n",
        "            else:\n",
        "                print(\"Brightness is already at maximum!\")\n",
        "        elif command == 'd':\n",
        "            # 5. Decrease brightness with min limit check\n",
        "            if brightness - step_size >= min_brightness:\n",
        "                brightness -= step_size\n",
        "                print(f\"Brightness decreased to: {brightness}%\")\n",
        "            else:\n",
        "                print(\"Brightness is already at minimum!\")\n",
        "        elif command == 'q':\n",
        "            # Exit the loop\n",
        "            print(\"Exiting LED Brightness Control. Goodbye!\")\n",
        "            break\n",
        "        else:\n",
        "            # Handle wrong commands\n",
        "            print(\"Invalid command. Please try again.\")\n",
        "\n",
        "        # 6. Create a visual representation\n",
        "        num_bars = brightness // step_size  # Number of bars corresponds to brightness/step size\n",
        "        visual = '|' * num_bars\n",
        "        print(f\"Brightness Visual: [{visual}]\")\n",
        "\n",
        "# Run the LED Brightness Control\n",
        "led_brightness_control()"
      ]
    }
  ]
}